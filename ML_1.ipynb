{
 "cells": [
  {
   "cell_type": "code",
   "execution_count": 48,
   "metadata": {},
   "outputs": [],
   "source": [
    "import pandas as pd\n",
    "import numpy as np\n",
    "from sklearn.model_selection import train_test_split"
   ]
  },
  {
   "cell_type": "code",
   "execution_count": 2,
   "metadata": {},
   "outputs": [],
   "source": [
    "df=pd.read_csv(\"Heart.csv\")"
   ]
  },
  {
   "cell_type": "code",
   "execution_count": 3,
   "metadata": {},
   "outputs": [
    {
     "name": "stdout",
     "output_type": "stream",
     "text": [
      "2\n"
     ]
    }
   ],
   "source": [
    "print(df.ndim)"
   ]
  },
  {
   "cell_type": "code",
   "execution_count": 4,
   "metadata": {},
   "outputs": [
    {
     "name": "stdout",
     "output_type": "stream",
     "text": [
      "<class 'pandas.core.frame.DataFrame'>\n",
      "RangeIndex: 303 entries, 0 to 302\n",
      "Data columns (total 15 columns):\n",
      " #   Column      Non-Null Count  Dtype  \n",
      "---  ------      --------------  -----  \n",
      " 0   Unnamed: 0  303 non-null    int64  \n",
      " 1   Age         303 non-null    int64  \n",
      " 2   Sex         303 non-null    int64  \n",
      " 3   ChestPain   303 non-null    object \n",
      " 4   RestBP      303 non-null    int64  \n",
      " 5   Chol        303 non-null    int64  \n",
      " 6   Fbs         303 non-null    int64  \n",
      " 7   RestECG     303 non-null    int64  \n",
      " 8   MaxHR       303 non-null    int64  \n",
      " 9   ExAng       303 non-null    int64  \n",
      " 10  Oldpeak     303 non-null    float64\n",
      " 11  Slope       303 non-null    int64  \n",
      " 12  Ca          299 non-null    float64\n",
      " 13  Thal        301 non-null    object \n",
      " 14  AHD         303 non-null    object \n",
      "dtypes: float64(2), int64(10), object(3)\n",
      "memory usage: 35.6+ KB\n",
      "None\n"
     ]
    }
   ],
   "source": [
    "print(df.info())"
   ]
  },
  {
   "cell_type": "code",
   "execution_count": 5,
   "metadata": {},
   "outputs": [
    {
     "name": "stdout",
     "output_type": "stream",
     "text": [
      "The number of instances(row)  303\n",
      "The number of columns(features) 15\n"
     ]
    }
   ],
   "source": [
    "print(\"The number of instances(row) \",len(df))\n",
    "print(\"The number of columns(features) %d\"%len(df.columns))"
   ]
  },
  {
   "cell_type": "code",
   "execution_count": 6,
   "metadata": {},
   "outputs": [
    {
     "name": "stdout",
     "output_type": "stream",
     "text": [
      "(303, 15)\n",
      "303\n",
      "15\n"
     ]
    }
   ],
   "source": [
    "print(df.shape)\n",
    "print(df.shape[0])\n",
    "print(df.shape[1])"
   ]
  },
  {
   "cell_type": "code",
   "execution_count": 7,
   "metadata": {},
   "outputs": [
    {
     "name": "stdout",
     "output_type": "stream",
     "text": [
      "4545\n"
     ]
    }
   ],
   "source": [
    "print(df.size)"
   ]
  },
  {
   "cell_type": "code",
   "execution_count": 8,
   "metadata": {},
   "outputs": [
    {
     "name": "stdout",
     "output_type": "stream",
     "text": [
      "number of total element in given dataset 4545\n"
     ]
    }
   ],
   "source": [
    "print(\"number of total element in given dataset\",df.shape[0]*df.shape[1])"
   ]
  },
  {
   "cell_type": "code",
   "execution_count": 9,
   "metadata": {},
   "outputs": [],
   "source": [
    "age_series=df['Age']"
   ]
  },
  {
   "cell_type": "code",
   "execution_count": 10,
   "metadata": {},
   "outputs": [
    {
     "name": "stdout",
     "output_type": "stream",
     "text": [
      "0      63\n",
      "1      67\n",
      "2      67\n",
      "3      37\n",
      "4      41\n",
      "       ..\n",
      "298    45\n",
      "299    68\n",
      "300    57\n",
      "301    57\n",
      "302    38\n",
      "Name: Age, Length: 303, dtype: int64\n"
     ]
    }
   ],
   "source": [
    "print(age_series)"
   ]
  },
  {
   "cell_type": "code",
   "execution_count": 12,
   "metadata": {},
   "outputs": [
    {
     "name": "stdout",
     "output_type": "stream",
     "text": [
      "<class 'pandas.core.series.Series'>\n"
     ]
    }
   ],
   "source": [
    "print(type(age_series))\n"
   ]
  },
  {
   "cell_type": "code",
   "execution_count": 13,
   "metadata": {},
   "outputs": [
    {
     "name": "stdout",
     "output_type": "stream",
     "text": [
      "     Age\n",
      "0     63\n",
      "1     67\n",
      "2     67\n",
      "3     37\n",
      "4     41\n",
      "..   ...\n",
      "298   45\n",
      "299   68\n",
      "300   57\n",
      "301   57\n",
      "302   38\n",
      "\n",
      "[303 rows x 1 columns]\n"
     ]
    }
   ],
   "source": [
    "age_series1=df[['Age']]\n",
    "print(age_series1)\n"
   ]
  },
  {
   "cell_type": "code",
   "execution_count": 20,
   "metadata": {},
   "outputs": [
    {
     "name": "stdout",
     "output_type": "stream",
     "text": [
      "<class 'pandas.core.frame.DataFrame'>\n"
     ]
    }
   ],
   "source": [
    "print(type(age_series1))\n"
   ]
  },
  {
   "cell_type": "code",
   "execution_count": 21,
   "metadata": {},
   "outputs": [
    {
     "name": "stdout",
     "output_type": "stream",
     "text": [
      "(303, 1)\n"
     ]
    }
   ],
   "source": [
    "print(age_series1.shape)\n"
   ]
  },
  {
   "cell_type": "code",
   "execution_count": 22,
   "metadata": {},
   "outputs": [
    {
     "name": "stdout",
     "output_type": "stream",
     "text": [
      "['Unnamed: 0', 'Age', 'Sex', 'ChestPain', 'RestBP', 'Chol', 'Fbs', 'RestECG', 'MaxHR', 'ExAng', 'Oldpeak', 'Slope', 'Ca', 'Thal', 'AHD']\n"
     ]
    }
   ],
   "source": [
    "print(list(df.columns))\n"
   ]
  },
  {
   "cell_type": "code",
   "execution_count": 23,
   "metadata": {},
   "outputs": [
    {
     "name": "stdout",
     "output_type": "stream",
     "text": [
      "['Unnamed: 0', 'Age', 'Sex', 'ChestPain', 'RestBP', 'Chol', 'Fbs', 'RestECG', 'MaxHR', 'ExAng', 'Oldpeak', 'Slope', 'Ca', 'Thal', 'AHD']\n"
     ]
    }
   ],
   "source": [
    "print(list(df.columns.values))\n"
   ]
  },
  {
   "cell_type": "code",
   "execution_count": 24,
   "metadata": {},
   "outputs": [
    {
     "name": "stdout",
     "output_type": "stream",
     "text": [
      "['Unnamed: 0', 'Age', 'Sex', 'ChestPain', 'RestBP', 'Chol', 'Fbs', 'RestECG', 'MaxHR', 'ExAng', 'Oldpeak', 'Slope', 'Ca', 'Thal', 'AHD']\n"
     ]
    }
   ],
   "source": [
    "print(list(df.columns.values.tolist()))\n"
   ]
  },
  {
   "cell_type": "code",
   "execution_count": 25,
   "metadata": {},
   "outputs": [
    {
     "name": "stdout",
     "output_type": "stream",
     "text": [
      "Unnamed: 0      int64\n",
      "Age             int64\n",
      "Sex             int64\n",
      "ChestPain      object\n",
      "RestBP          int64\n",
      "Chol            int64\n",
      "Fbs             int64\n",
      "RestECG         int64\n",
      "MaxHR           int64\n",
      "ExAng           int64\n",
      "Oldpeak       float64\n",
      "Slope           int64\n",
      "Ca            float64\n",
      "Thal           object\n",
      "AHD            object\n",
      "dtype: object\n"
     ]
    }
   ],
   "source": [
    "print(df.dtypes)"
   ]
  },
  {
   "cell_type": "code",
   "execution_count": 29,
   "metadata": {},
   "outputs": [],
   "source": [
    "missing_values = [\"n/a\", \"na\", \"--\"]\n",
    "df=pd.read_csv(\"Heart.csv\",na_values=missing_values)"
   ]
  },
  {
   "cell_type": "code",
   "execution_count": 28,
   "metadata": {},
   "outputs": [],
   "source": [
    "na_values=missing_values"
   ]
  },
  {
   "cell_type": "code",
   "execution_count": 30,
   "metadata": {},
   "outputs": [
    {
     "name": "stdout",
     "output_type": "stream",
     "text": [
      "       Unnamed: 0         Age         Sex      RestBP        Chol         Fbs  \\\n",
      "count  303.000000  303.000000  303.000000  303.000000  303.000000  303.000000   \n",
      "mean   152.000000   54.438944    0.679868  131.689769  246.693069    0.148515   \n",
      "std     87.612784    9.038662    0.467299   17.599748   51.776918    0.356198   \n",
      "min      1.000000   29.000000    0.000000   94.000000  126.000000    0.000000   \n",
      "25%     76.500000   48.000000    0.000000  120.000000  211.000000    0.000000   \n",
      "50%    152.000000   56.000000    1.000000  130.000000  241.000000    0.000000   \n",
      "75%    227.500000   61.000000    1.000000  140.000000  275.000000    0.000000   \n",
      "max    303.000000   77.000000    1.000000  200.000000  564.000000    1.000000   \n",
      "\n",
      "          RestECG       MaxHR       ExAng     Oldpeak       Slope          Ca  \n",
      "count  303.000000  303.000000  303.000000  303.000000  303.000000  299.000000  \n",
      "mean     0.990099  149.607261    0.326733    1.039604    1.600660    0.672241  \n",
      "std      0.994971   22.875003    0.469794    1.161075    0.616226    0.937438  \n",
      "min      0.000000   71.000000    0.000000    0.000000    1.000000    0.000000  \n",
      "25%      0.000000  133.500000    0.000000    0.000000    1.000000    0.000000  \n",
      "50%      1.000000  153.000000    0.000000    0.800000    2.000000    0.000000  \n",
      "75%      2.000000  166.000000    1.000000    1.600000    2.000000    1.000000  \n",
      "max      2.000000  202.000000    1.000000    6.200000    3.000000    3.000000  \n",
      "(303, 15)\n",
      "int64      10\n",
      "object      3\n",
      "float64     2\n",
      "dtype: int64\n"
     ]
    }
   ],
   "source": [
    "print(df.describe())\n",
    "print(df.shape)\n",
    "print(df.dtypes.value_counts())"
   ]
  },
  {
   "cell_type": "code",
   "execution_count": 31,
   "metadata": {},
   "outputs": [],
   "source": [
    "numerical_var=df.columns[df.dtypes!=object]"
   ]
  },
  {
   "cell_type": "code",
   "execution_count": 32,
   "metadata": {},
   "outputs": [],
   "source": [
    "cat_var = df.columns[df.dtypes==object]"
   ]
  },
  {
   "cell_type": "code",
   "execution_count": 33,
   "metadata": {},
   "outputs": [
    {
     "name": "stdout",
     "output_type": "stream",
     "text": [
      "Index(['Unnamed: 0', 'Age', 'Sex', 'RestBP', 'Chol', 'Fbs', 'RestECG', 'MaxHR',\n",
      "       'ExAng', 'Oldpeak', 'Slope', 'Ca'],\n",
      "      dtype='object')\n"
     ]
    }
   ],
   "source": [
    "print(numerical_var)"
   ]
  },
  {
   "cell_type": "code",
   "execution_count": 34,
   "metadata": {},
   "outputs": [
    {
     "name": "stdout",
     "output_type": "stream",
     "text": [
      "Index(['ChestPain', 'Thal', 'AHD'], dtype='object')\n"
     ]
    }
   ],
   "source": [
    "print(cat_var)"
   ]
  },
  {
   "cell_type": "code",
   "execution_count": 35,
   "metadata": {},
   "outputs": [
    {
     "name": "stdout",
     "output_type": "stream",
     "text": [
      "0      False\n",
      "1      False\n",
      "2      False\n",
      "3      False\n",
      "4      False\n",
      "       ...  \n",
      "298    False\n",
      "299    False\n",
      "300    False\n",
      "301    False\n",
      "302     True\n",
      "Name: Ca, Length: 303, dtype: bool\n"
     ]
    }
   ],
   "source": [
    "print(df[\"Ca\"].isnull())"
   ]
  },
  {
   "cell_type": "code",
   "execution_count": 36,
   "metadata": {},
   "outputs": [
    {
     "name": "stdout",
     "output_type": "stream",
     "text": [
      "0       True\n",
      "1       True\n",
      "2       True\n",
      "3       True\n",
      "4       True\n",
      "       ...  \n",
      "298     True\n",
      "299     True\n",
      "300     True\n",
      "301     True\n",
      "302    False\n",
      "Name: Ca, Length: 303, dtype: bool\n"
     ]
    }
   ],
   "source": [
    "print(df[\"Ca\"].notnull())"
   ]
  },
  {
   "cell_type": "code",
   "execution_count": 37,
   "metadata": {},
   "outputs": [
    {
     "name": "stdout",
     "output_type": "stream",
     "text": [
      "     Unnamed: 0   Age   Sex  RestBP  Chol   Fbs  RestECG  MaxHR  ExAng  \\\n",
      "0          True  True  True    True  True  True     True   True   True   \n",
      "1          True  True  True    True  True  True     True   True   True   \n",
      "2          True  True  True    True  True  True     True   True   True   \n",
      "3          True  True  True    True  True  True     True   True   True   \n",
      "4          True  True  True    True  True  True     True   True   True   \n",
      "..          ...   ...   ...     ...   ...   ...      ...    ...    ...   \n",
      "298        True  True  True    True  True  True     True   True   True   \n",
      "299        True  True  True    True  True  True     True   True   True   \n",
      "300        True  True  True    True  True  True     True   True   True   \n",
      "301        True  True  True    True  True  True     True   True   True   \n",
      "302        True  True  True    True  True  True     True   True   True   \n",
      "\n",
      "     Oldpeak  Slope     Ca  \n",
      "0       True   True   True  \n",
      "1       True   True   True  \n",
      "2       True   True   True  \n",
      "3       True   True   True  \n",
      "4       True   True   True  \n",
      "..       ...    ...    ...  \n",
      "298     True   True   True  \n",
      "299     True   True   True  \n",
      "300     True   True   True  \n",
      "301     True   True   True  \n",
      "302     True   True  False  \n",
      "\n",
      "[303 rows x 12 columns]\n"
     ]
    }
   ],
   "source": [
    "print(df[numerical_var].notnull())"
   ]
  },
  {
   "cell_type": "code",
   "execution_count": 38,
   "metadata": {},
   "outputs": [
    {
     "name": "stdout",
     "output_type": "stream",
     "text": [
      "     ChestPain  Thal   AHD\n",
      "0         True  True  True\n",
      "1         True  True  True\n",
      "2         True  True  True\n",
      "3         True  True  True\n",
      "4         True  True  True\n",
      "..         ...   ...   ...\n",
      "298       True  True  True\n",
      "299       True  True  True\n",
      "300       True  True  True\n",
      "301       True  True  True\n",
      "302       True  True  True\n",
      "\n",
      "[303 rows x 3 columns]\n"
     ]
    }
   ],
   "source": [
    "print(df[cat_var].notnull())"
   ]
  },
  {
   "cell_type": "code",
   "execution_count": 39,
   "metadata": {},
   "outputs": [
    {
     "name": "stdout",
     "output_type": "stream",
     "text": [
      "Unnamed: 0      int64\n",
      "Age             int64\n",
      "Sex             int64\n",
      "ChestPain      object\n",
      "RestBP          int64\n",
      "Chol            int64\n",
      "Fbs             int64\n",
      "RestECG         int64\n",
      "MaxHR           int64\n",
      "ExAng           int64\n",
      "Oldpeak       float64\n",
      "Slope           int64\n",
      "Ca            float64\n",
      "Thal           object\n",
      "AHD            object\n",
      "dtype: object\n"
     ]
    }
   ],
   "source": [
    "print(df.dtypes)"
   ]
  },
  {
   "cell_type": "code",
   "execution_count": 40,
   "metadata": {},
   "outputs": [
    {
     "name": "stdout",
     "output_type": "stream",
     "text": [
      "Unnamed: 0      0\n",
      "Age             0\n",
      "Sex            97\n",
      "ChestPain       0\n",
      "RestBP          0\n",
      "Chol            0\n",
      "Fbs           258\n",
      "RestECG       151\n",
      "MaxHR           0\n",
      "ExAng         204\n",
      "Oldpeak        99\n",
      "Slope           0\n",
      "Ca            176\n",
      "Thal            0\n",
      "AHD             0\n",
      "dtype: int64\n"
     ]
    }
   ],
   "source": [
    "print((df==0).sum(axis=0))"
   ]
  },
  {
   "cell_type": "code",
   "execution_count": 41,
   "metadata": {},
   "outputs": [
    {
     "name": "stdout",
     "output_type": "stream",
     "text": [
      "a    2\n",
      "b    3\n",
      "c    5\n",
      "dtype: int64\n",
      "The mean age of patient =  54.43894389438944\n",
      "The median age of patient =  56.0\n"
     ]
    }
   ],
   "source": [
    "pandas_dataframe = pd.DataFrame({'a':[1,0,0,1,3], 'b':[0,0,1,0,1], 'c':[0,0,0,0,0]})\n",
    "print((pandas_dataframe==0).sum(axis=0))\n",
    "age_mean= np.mean(df['Age'])\n",
    "print(\"The mean age of patient = \",age_mean)\n",
    "age_mean= np.median(df['Age'])\n",
    "print(\"The median age of patient = \",age_mean)"
   ]
  },
  {
   "cell_type": "code",
   "execution_count": 42,
   "metadata": {},
   "outputs": [
    {
     "name": "stdout",
     "output_type": "stream",
     "text": [
      "     Age  Sex     ChestPain  RestBP  Chol\n",
      "0     63    1       typical     145   233\n",
      "1     67    1  asymptomatic     160   286\n",
      "2     67    1  asymptomatic     120   229\n",
      "3     37    1    nonanginal     130   250\n",
      "4     41    0    nontypical     130   204\n",
      "..   ...  ...           ...     ...   ...\n",
      "298   45    1       typical     110   264\n",
      "299   68    1  asymptomatic     144   193\n",
      "300   57    1  asymptomatic     130   131\n",
      "301   57    0    nontypical     130   236\n",
      "302   38    1    nonanginal     138   175\n",
      "\n",
      "[303 rows x 5 columns]\n",
      "<class 'pandas.core.frame.DataFrame'>\n",
      "     Age  Sex     ChestPain  RestBP  Chol\n",
      "118   63    1  asymptomatic     130   330\n",
      "98    52    1    nontypical     134   201\n",
      "250   57    1  asymptomatic     110   201\n",
      "251   58    1  asymptomatic     146   218\n",
      "295   41    1    nontypical     120   157\n",
      "..   ...  ...           ...     ...   ...\n",
      "206   58    1  asymptomatic     128   259\n",
      "133   51    1  asymptomatic     140   261\n",
      "64    54    1  asymptomatic     120   188\n",
      "158   60    1  asymptomatic     140   293\n",
      "14    52    1    nonanginal     172   199\n",
      "\n",
      "[227 rows x 5 columns]\n",
      "     Age  Sex     ChestPain  RestBP  Chol\n",
      "0     63    1       typical     145   233\n",
      "1     67    1  asymptomatic     160   286\n",
      "2     67    1  asymptomatic     120   229\n",
      "9     53    1  asymptomatic     140   203\n",
      "17    54    1  asymptomatic     140   239\n",
      "..   ...  ...           ...     ...   ...\n",
      "280   57    1  asymptomatic     110   335\n",
      "281   47    1    nonanginal     130   253\n",
      "287   58    1    nontypical     125   220\n",
      "296   59    1  asymptomatic     164   176\n",
      "297   57    0  asymptomatic     140   241\n",
      "\n",
      "[76 rows x 5 columns]\n"
     ]
    }
   ],
   "source": [
    "temp1=df.iloc[:,[1,2,3,4,5]]\n",
    "print(temp1)\n",
    "print(type(temp1))\n",
    "tra_set=temp1.sample(frac=0.75)\n",
    "tes_set=temp1.drop(tra_set.index)\n",
    "print(tra_set)\n",
    "print(tes_set)"
   ]
  },
  {
   "cell_type": "code",
   "execution_count": 43,
   "metadata": {},
   "outputs": [
    {
     "name": "stdout",
     "output_type": "stream",
     "text": [
      "     Unnamed: 0  Age  Sex     ChestPain  RestBP  Chol  Fbs  RestECG  MaxHR  \\\n",
      "0             1   63    1       typical     145   233    1        2    150   \n",
      "1             2   67    1  asymptomatic     160   286    0        2    108   \n",
      "2             3   67    1  asymptomatic     120   229    0        2    129   \n",
      "3             4   37    1    nonanginal     130   250    0        0    187   \n",
      "4             5   41    0    nontypical     130   204    0        2    172   \n",
      "..          ...  ...  ...           ...     ...   ...  ...      ...    ...   \n",
      "298         299   45    1       typical     110   264    0        0    132   \n",
      "299         300   68    1  asymptomatic     144   193    1        0    141   \n",
      "300         301   57    1  asymptomatic     130   131    0        0    115   \n",
      "301         302   57    0    nontypical     130   236    0        2    174   \n",
      "302         303   38    1    nonanginal     138   175    0        0    173   \n",
      "\n",
      "     ExAng  Oldpeak  Slope   Ca        Thal  AHD  \n",
      "0        0      2.3      3  0.0       fixed   No  \n",
      "1        1      1.5      2  3.0      normal  Yes  \n",
      "2        1      2.6      2  2.0  reversable  Yes  \n",
      "3        0      3.5      3  0.0      normal   No  \n",
      "4        0      1.4      1  0.0      normal   No  \n",
      "..     ...      ...    ...  ...         ...  ...  \n",
      "298      0      1.2      2  0.0  reversable  Yes  \n",
      "299      0      3.4      2  2.0  reversable  Yes  \n",
      "300      1      1.2      2  1.0  reversable  Yes  \n",
      "301      0      0.0      2  1.0      normal  Yes  \n",
      "302      0      0.0      1  NaN      normal   No  \n",
      "\n",
      "[303 rows x 15 columns]\n"
     ]
    }
   ],
   "source": [
    "print(df)"
   ]
  },
  {
   "cell_type": "code",
   "execution_count": 44,
   "metadata": {},
   "outputs": [
    {
     "name": "stdout",
     "output_type": "stream",
     "text": [
      "0       No\n",
      "1      Yes\n",
      "2      Yes\n",
      "3       No\n",
      "4       No\n",
      "      ... \n",
      "298    Yes\n",
      "299    Yes\n",
      "300    Yes\n",
      "301    Yes\n",
      "302     No\n",
      "Name: AHD, Length: 303, dtype: object\n"
     ]
    }
   ],
   "source": [
    "y=df.AHD\n",
    "print(y)"
   ]
  },
  {
   "cell_type": "code",
   "execution_count": 45,
   "metadata": {},
   "outputs": [
    {
     "name": "stdout",
     "output_type": "stream",
     "text": [
      "     Unnamed: 0  Age  Sex     ChestPain  RestBP  Chol  Fbs  RestECG  MaxHR  \\\n",
      "0             1   63    1       typical     145   233    1        2    150   \n",
      "1             2   67    1  asymptomatic     160   286    0        2    108   \n",
      "2             3   67    1  asymptomatic     120   229    0        2    129   \n",
      "3             4   37    1    nonanginal     130   250    0        0    187   \n",
      "4             5   41    0    nontypical     130   204    0        2    172   \n",
      "..          ...  ...  ...           ...     ...   ...  ...      ...    ...   \n",
      "298         299   45    1       typical     110   264    0        0    132   \n",
      "299         300   68    1  asymptomatic     144   193    1        0    141   \n",
      "300         301   57    1  asymptomatic     130   131    0        0    115   \n",
      "301         302   57    0    nontypical     130   236    0        2    174   \n",
      "302         303   38    1    nonanginal     138   175    0        0    173   \n",
      "\n",
      "     ExAng  Oldpeak  Slope   Ca        Thal  \n",
      "0        0      2.3      3  0.0       fixed  \n",
      "1        1      1.5      2  3.0      normal  \n",
      "2        1      2.6      2  2.0  reversable  \n",
      "3        0      3.5      3  0.0      normal  \n",
      "4        0      1.4      1  0.0      normal  \n",
      "..     ...      ...    ...  ...         ...  \n",
      "298      0      1.2      2  0.0  reversable  \n",
      "299      0      3.4      2  2.0  reversable  \n",
      "300      1      1.2      2  1.0  reversable  \n",
      "301      0      0.0      2  1.0      normal  \n",
      "302      0      0.0      1  NaN      normal  \n",
      "\n",
      "[303 rows x 14 columns]\n"
     ]
    }
   ],
   "source": [
    "x=df.drop('AHD',axis=1)\n",
    "print(x)"
   ]
  },
  {
   "cell_type": "code",
   "execution_count": 50,
   "metadata": {},
   "outputs": [
    {
     "name": "stdout",
     "output_type": "stream",
     "text": [
      "(227, 14)\n",
      "(76, 14)\n",
      "(227,)\n",
      "(76,)\n"
     ]
    }
   ],
   "source": [
    "x_train,x_test,y_train,y_test=train_test_split(x,y,test_size=0.25)\n",
    "print(x_train.shape)\n",
    "print(x_test.shape)\n",
    "print(y_train.shape)\n",
    "print(y_test.shape)"
   ]
  },
  {
   "cell_type": "code",
   "execution_count": 59,
   "metadata": {},
   "outputs": [],
   "source": [
    "from sklearn import metrics\n",
    "import matplotlib.pyplot as plt"
   ]
  },
  {
   "cell_type": "code",
   "execution_count": 60,
   "metadata": {},
   "outputs": [],
   "source": [
    "actual=[1,0,1,1,1,0,0,1,1,0,1,0]"
   ]
  },
  {
   "cell_type": "code",
   "execution_count": 61,
   "metadata": {},
   "outputs": [],
   "source": [
    "predicted=[1,1,0,1,1,0,0,1,1,0,1,1]"
   ]
  },
  {
   "cell_type": "code",
   "execution_count": 62,
   "metadata": {},
   "outputs": [
    {
     "name": "stdout",
     "output_type": "stream",
     "text": [
      "[[3 2]\n",
      " [1 6]]\n"
     ]
    }
   ],
   "source": [
    "print(metrics.confusion_matrix(actual, predicted))"
   ]
  },
  {
   "cell_type": "code",
   "execution_count": 63,
   "metadata": {},
   "outputs": [
    {
     "data": {
      "image/png": "[encoded data removed]",
      "text/plain": [
       "<Figure size 640x480 with 2 Axes>"
      ]
     },
     "metadata": {},
     "output_type": "display_data"
    }
   ],
   "source": [
    "confusion_matrix = metrics.confusion_matrix(actual, predicted)\n",
    "\n",
    "cm_display = metrics.ConfusionMatrixDisplay(confusion_matrix = confusion_matrix, display_labels = [True, False])\n",
    "\n",
    "cm_display.plot()\n",
    "plt.show() "
   ]
  },
  {
   "cell_type": "code",
   "execution_count": 65,
   "metadata": {},
   "outputs": [],
   "source": [
    "from sklearn.metrics import accuracy_score\n",
    "from sklearn.metrics import f1_score\n",
    "from sklearn.metrics import precision_score\n",
    "from sklearn.metrics import recall_score"
   ]
  },
  {
   "cell_type": "code",
   "execution_count": 66,
   "metadata": {},
   "outputs": [
    {
     "name": "stdout",
     "output_type": "stream",
     "text": [
      "Accuracy: 0.750\n",
      "F1-Score: 0.800\n",
      "Precision: 0.750\n",
      "Recall: 0.857\n"
     ]
    }
   ],
   "source": [
    "print(\"Accuracy: %.3f\" % accuracy_score(actual, predicted))\n",
    "print(\"F1-Score: %.3f\" % f1_score(actual, predicted))\n",
    "print(\"Precision: %.3f\" % precision_score(actual, predicted))\n",
    "print(\"Recall: %.3f\" % recall_score(actual, predicted))"
   ]
  },
  {
   "cell_type": "code",
   "execution_count": null,
   "metadata": {},
   "outputs": [],
   "source": []
  }
 ],
 "metadata": {
  "kernelspec": {
   "display_name": "Python 3 (ipykernel)",
   "language": "python",
   "name": "python3"
  },
  "language_info": {
   "codemirror_mode": {
    "name": "ipython",
    "version": 3
   },
   "file_extension": ".py",
   "mimetype": "text/x-python",
   "name": "python",
   "nbconvert_exporter": "python",
   "pygments_lexer": "ipython3",
   "version": "3.9.13"
  }
 },
 "nbformat": 4,
 "nbformat_minor": 5
}
